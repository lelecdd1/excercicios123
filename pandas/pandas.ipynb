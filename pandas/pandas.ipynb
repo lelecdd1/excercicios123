{
 "cells": [
  {
   "cell_type": "code",
   "execution_count": 4,
   "id": "454b0247-d001-4059-9858-6091aa48b6ce",
   "metadata": {},
   "outputs": [
    {
     "name": "stdout",
     "output_type": "stream",
     "text": [
      "      nome          cidade  idade  nota\n",
      "0    Pedro    Porto Alegre     14  83.0\n",
      "1    Maria       São Paulo     13  59.0\n",
      "2  Janaina  Rio de Janeiro     15  86.0\n",
      "3     Wong        Brasilia     16  89.0\n",
      "4  Roberto        Salvador     18  98.0\n",
      "5    Marco        Curitiba     13  61.0\n",
      "6    Paula  Belo Horizonte     14  44.0\n"
     ]
    }
   ],
   "source": [
    "import pandas as pd \n",
    "import numpy as np \n",
    "dados = { 'nome':['Pedro','Maria','Janaina','Wong','Roberto','Marco','Paula'], \n",
    "         'cidade':['Porto Alegre','São Paulo','Rio de Janeiro','Brasilia','Salvador','Curitiba','Belo Horizonte'], \n",
    "         'idade':[14,13,15,16,18,13,14], \n",
    "         'nota':[83.0,59.0,86.0,89.0,98.0,61.0,44.0] \n",
    "} \n",
    "dfAlunos = pd.DataFrame(data=dados) \n",
    "\n",
    "print (dfAlunos)\n",
    "\n"
   ]
  },
  {
   "cell_type": "code",
   "execution_count": 5,
   "id": "b5c2b4da-2e9d-4526-a455-f70772f8d79d",
   "metadata": {},
   "outputs": [],
   "source": [
    "dfAlunos.to_csv(\"alunos.csv\",index=False)"
   ]
  },
  {
   "cell_type": "code",
   "execution_count": 6,
   "id": "bcab9f97-0dbe-4766-90c3-cd9150396fbd",
   "metadata": {},
   "outputs": [],
   "source": [
    "df=pd.read_csv(\"alunos.csv\")"
   ]
  },
  {
   "cell_type": "code",
   "execution_count": 7,
   "id": "37515524-de46-4a4a-873f-062be2223593",
   "metadata": {},
   "outputs": [
    {
     "data": {
      "text/html": [
       "<div>\n",
       "<style scoped>\n",
       "    .dataframe tbody tr th:only-of-type {\n",
       "        vertical-align: middle;\n",
       "    }\n",
       "\n",
       "    .dataframe tbody tr th {\n",
       "        vertical-align: top;\n",
       "    }\n",
       "\n",
       "    .dataframe thead th {\n",
       "        text-align: right;\n",
       "    }\n",
       "</style>\n",
       "<table border=\"1\" class=\"dataframe\">\n",
       "  <thead>\n",
       "    <tr style=\"text-align: right;\">\n",
       "      <th></th>\n",
       "      <th>nome</th>\n",
       "      <th>cidade</th>\n",
       "      <th>idade</th>\n",
       "      <th>nota</th>\n",
       "    </tr>\n",
       "  </thead>\n",
       "  <tbody>\n",
       "    <tr>\n",
       "      <th>0</th>\n",
       "      <td>Pedro</td>\n",
       "      <td>Porto Alegre</td>\n",
       "      <td>14</td>\n",
       "      <td>83.0</td>\n",
       "    </tr>\n",
       "    <tr>\n",
       "      <th>1</th>\n",
       "      <td>Maria</td>\n",
       "      <td>São Paulo</td>\n",
       "      <td>13</td>\n",
       "      <td>59.0</td>\n",
       "    </tr>\n",
       "    <tr>\n",
       "      <th>2</th>\n",
       "      <td>Janaina</td>\n",
       "      <td>Rio de Janeiro</td>\n",
       "      <td>15</td>\n",
       "      <td>86.0</td>\n",
       "    </tr>\n",
       "    <tr>\n",
       "      <th>3</th>\n",
       "      <td>Wong</td>\n",
       "      <td>Brasilia</td>\n",
       "      <td>16</td>\n",
       "      <td>89.0</td>\n",
       "    </tr>\n",
       "    <tr>\n",
       "      <th>4</th>\n",
       "      <td>Roberto</td>\n",
       "      <td>Salvador</td>\n",
       "      <td>18</td>\n",
       "      <td>98.0</td>\n",
       "    </tr>\n",
       "    <tr>\n",
       "      <th>5</th>\n",
       "      <td>Marco</td>\n",
       "      <td>Curitiba</td>\n",
       "      <td>13</td>\n",
       "      <td>61.0</td>\n",
       "    </tr>\n",
       "    <tr>\n",
       "      <th>6</th>\n",
       "      <td>Paula</td>\n",
       "      <td>Belo Horizonte</td>\n",
       "      <td>14</td>\n",
       "      <td>44.0</td>\n",
       "    </tr>\n",
       "  </tbody>\n",
       "</table>\n",
       "</div>"
      ],
      "text/plain": [
       "      nome          cidade  idade  nota\n",
       "0    Pedro    Porto Alegre     14  83.0\n",
       "1    Maria       São Paulo     13  59.0\n",
       "2  Janaina  Rio de Janeiro     15  86.0\n",
       "3     Wong        Brasilia     16  89.0\n",
       "4  Roberto        Salvador     18  98.0\n",
       "5    Marco        Curitiba     13  61.0\n",
       "6    Paula  Belo Horizonte     14  44.0"
      ]
     },
     "execution_count": 7,
     "metadata": {},
     "output_type": "execute_result"
    }
   ],
   "source": [
    "df"
   ]
  },
  {
   "cell_type": "code",
   "execution_count": 8,
   "id": "f934c0d9-a593-419f-976a-950877d148b1",
   "metadata": {},
   "outputs": [
    {
     "data": {
      "text/html": [
       "<div>\n",
       "<style scoped>\n",
       "    .dataframe tbody tr th:only-of-type {\n",
       "        vertical-align: middle;\n",
       "    }\n",
       "\n",
       "    .dataframe tbody tr th {\n",
       "        vertical-align: top;\n",
       "    }\n",
       "\n",
       "    .dataframe thead th {\n",
       "        text-align: right;\n",
       "    }\n",
       "</style>\n",
       "<table border=\"1\" class=\"dataframe\">\n",
       "  <thead>\n",
       "    <tr style=\"text-align: right;\">\n",
       "      <th></th>\n",
       "      <th>idade</th>\n",
       "      <th>nota</th>\n",
       "    </tr>\n",
       "  </thead>\n",
       "  <tbody>\n",
       "    <tr>\n",
       "      <th>count</th>\n",
       "      <td>7.000000</td>\n",
       "      <td>7.000000</td>\n",
       "    </tr>\n",
       "    <tr>\n",
       "      <th>mean</th>\n",
       "      <td>14.714286</td>\n",
       "      <td>74.285714</td>\n",
       "    </tr>\n",
       "    <tr>\n",
       "      <th>std</th>\n",
       "      <td>1.799471</td>\n",
       "      <td>19.661420</td>\n",
       "    </tr>\n",
       "    <tr>\n",
       "      <th>min</th>\n",
       "      <td>13.000000</td>\n",
       "      <td>44.000000</td>\n",
       "    </tr>\n",
       "    <tr>\n",
       "      <th>25%</th>\n",
       "      <td>13.500000</td>\n",
       "      <td>60.000000</td>\n",
       "    </tr>\n",
       "    <tr>\n",
       "      <th>50%</th>\n",
       "      <td>14.000000</td>\n",
       "      <td>83.000000</td>\n",
       "    </tr>\n",
       "    <tr>\n",
       "      <th>75%</th>\n",
       "      <td>15.500000</td>\n",
       "      <td>87.500000</td>\n",
       "    </tr>\n",
       "    <tr>\n",
       "      <th>max</th>\n",
       "      <td>18.000000</td>\n",
       "      <td>98.000000</td>\n",
       "    </tr>\n",
       "  </tbody>\n",
       "</table>\n",
       "</div>"
      ],
      "text/plain": [
       "           idade       nota\n",
       "count   7.000000   7.000000\n",
       "mean   14.714286  74.285714\n",
       "std     1.799471  19.661420\n",
       "min    13.000000  44.000000\n",
       "25%    13.500000  60.000000\n",
       "50%    14.000000  83.000000\n",
       "75%    15.500000  87.500000\n",
       "max    18.000000  98.000000"
      ]
     },
     "execution_count": 8,
     "metadata": {},
     "output_type": "execute_result"
    }
   ],
   "source": [
    "dfAlunos.describe()"
   ]
  },
  {
   "cell_type": "code",
   "execution_count": 10,
   "id": "8cc3c674-0335-44cb-be42-d551d275f88b",
   "metadata": {},
   "outputs": [],
   "source": [
    "pearson= dfAlunos['idade'].corr(dfAlunos['nota'])"
   ]
  },
  {
   "cell_type": "code",
   "execution_count": 22,
   "id": "2c52a764-9921-46b6-865c-acb0a64f46a4",
   "metadata": {},
   "outputs": [
    {
     "name": "stdout",
     "output_type": "stream",
     "text": [
      "Alunos mais VELHOS tem melhor nota\n"
     ]
    }
   ],
   "source": [
    "if (pearson> 0.5):\n",
    "    print('Alunos mais VELHOS tem melhor nota')\n",
    "elif (pearson< 0.5):\n",
    "     print ('Alunos mais NOVOS tem melhor nota')\n",
    "else: \n",
    "    print('Nao ha relacao entre idade e nota')"
   ]
  },
  {
   "cell_type": "code",
   "execution_count": null,
   "id": "a823ef76-90c4-4119-931e-3b58bcefe167",
   "metadata": {},
   "outputs": [],
   "source": [
    "\n"
   ]
  }
 ],
 "metadata": {
  "kernelspec": {
   "display_name": "Python 3 (ipykernel)",
   "language": "python",
   "name": "python3"
  },
  "language_info": {
   "codemirror_mode": {
    "name": "ipython",
    "version": 3
   },
   "file_extension": ".py",
   "mimetype": "text/x-python",
   "name": "python",
   "nbconvert_exporter": "python",
   "pygments_lexer": "ipython3",
   "version": "3.11.2"
  }
 },
 "nbformat": 4,
 "nbformat_minor": 5
}
