{
 "cells": [
  {
   "cell_type": "code",
   "execution_count": null,
   "id": "1c2e8876-cace-4a26-873d-b7f7523e4616",
   "metadata": {},
   "outputs": [
    {
     "name": "stdout",
     "output_type": "stream",
     "text": [
      "Opções: \n",
      "[1]Maçã\n",
      "[2]Banana\n",
      "[3]Laranja\n",
      "[4]Uva\n",
      "[5]Pêra\n",
      "[6]Encerrar Programa\n"
     ]
    }
   ],
   "source": [
    "def valor_maca():\n",
    "    print('Maçã - R$1.00')\n",
    "\n",
    "def valor_banana():\n",
    "    print('Banana - R$0.50')\n",
    "\n",
    "def valor_laranja():\n",
    "    print('Laranja - R$0.75')\n",
    "\n",
    "def valor_uva():\n",
    "    print('Uva - R$2.00')\n",
    "\n",
    "def valor_pera():\n",
    "    print('Pêra - R$1.50')\n",
    "\n",
    "def main() :\n",
    "    while True:\n",
    "        print('Opções: ')\n",
    "        print('[1]Maçã')\n",
    "        print('[2]Banana')\n",
    "        print('[3]Laranja')\n",
    "        print('[4]Uva')\n",
    "        print('[5]Pêra')\n",
    "        print('[6]Encerrar Programa')\n",
    "\n",
    "        resp = int(input('Sua Opção '))\n",
    "        if resp == 1:\n",
    "            valor_maca()\n",
    "        elif resp == 2:\n",
    "            valor_banana()\n",
    "        elif resp == 3:\n",
    "            valor_laranja()\n",
    "        elif resp == 4:\n",
    "            valor_uva()\n",
    "        elif resp == 5:\n",
    "            valor_pera()\n",
    "        elif resp == 6:\n",
    "            break\n",
    "        else:\n",
    "            print('Opção Inválida')\n",
    "        main()\n",
    "\n",
    "main()\n",
    "\n"
   ]
  },
  {
   "cell_type": "code",
   "execution_count": null,
   "id": "cde5008a-b96b-4944-b380-d964ab3ced3b",
   "metadata": {},
   "outputs": [],
   "source": []
  }
 ],
 "metadata": {
  "kernelspec": {
   "display_name": "Python 3 (ipykernel)",
   "language": "python",
   "name": "python3"
  },
  "language_info": {
   "codemirror_mode": {
    "name": "ipython",
    "version": 3
   },
   "file_extension": ".py",
   "mimetype": "text/x-python",
   "name": "python",
   "nbconvert_exporter": "python",
   "pygments_lexer": "ipython3",
   "version": "3.11.2"
  }
 },
 "nbformat": 4,
 "nbformat_minor": 5
}
