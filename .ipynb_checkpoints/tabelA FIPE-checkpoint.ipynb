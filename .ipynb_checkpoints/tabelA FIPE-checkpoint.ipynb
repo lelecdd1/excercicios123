{
 "cells": [
  {
   "cell_type": "code",
   "execution_count": 1,
   "id": "2fc64a7f-d1d3-43c7-9d02-2526abe5bd08",
   "metadata": {},
   "outputs": [
    {
     "name": "stdout",
     "output_type": "stream",
     "text": [
      "Preço mínimo de um carro em 2023: R$ 4500\n",
      "Preço máximo de um carro em 2023: R$ 12000\n",
      "Carros que você pode comprar entre 5000 e 7000 reais em 2023:\n",
      " - Carro B por R$ 5500\n",
      " - Carro C por R$ 6000\n",
      " - Carro D por R$ 7000\n"
     ]
    }
   ],
   "source": [
    "# Simulação de dados de preços de carros em 2023\n",
    "carros_2023 = [\n",
    "    {\"modelo\": \"Carro A\", \"preco\": 4500},\n",
    "    {\"modelo\": \"Carro B\", \"preco\": 5500},\n",
    "    {\"modelo\": \"Carro C\", \"preco\": 6000},\n",
    "    {\"modelo\": \"Carro D\", \"preco\": 7000},\n",
    "    {\"modelo\": \"Carro E\", \"preco\": 8000},\n",
    "    {\"modelo\": \"Carro F\", \"preco\": 12000},\n",
    "]\n",
    "\n",
    "# Encontrando o preço mínimo e máximo\n",
    "preco_minimo = min(carros_2023, key=lambda x: x[\"preco\"])[\"preco\"]\n",
    "preco_maximo = max(carros_2023, key=lambda x: x[\"preco\"])[\"preco\"]\n",
    "\n",
    "# Encontrando carros entre 5000 e 7000 reais\n",
    "carros_na_faixa = [carro for carro in carros_2023 if 5000 <= carro[\"preco\"] <= 7000]\n",
    "\n",
    "# Exibindo os resultados\n",
    "print(f\"Preço mínimo de um carro em 2023: R$ {preco_minimo}\")\n",
    "print(f\"Preço máximo de um carro em 2023: R$ {preco_maximo}\")\n",
    "print(\"Carros que você pode comprar entre 5000 e 7000 reais em 2023:\")\n",
    "for carro in carros_na_faixa:\n",
    "    print(f\" - {carro['modelo']} por R$ {carro['preco']}\")\n"
   ]
  },
  {
   "cell_type": "code",
   "execution_count": null,
   "id": "17eedc22-0550-4f41-9b78-41490de5275e",
   "metadata": {},
   "outputs": [],
   "source": []
  }
 ],
 "metadata": {
  "kernelspec": {
   "display_name": "Python 3 (ipykernel)",
   "language": "python",
   "name": "python3"
  },
  "language_info": {
   "codemirror_mode": {
    "name": "ipython",
    "version": 3
   },
   "file_extension": ".py",
   "mimetype": "text/x-python",
   "name": "python",
   "nbconvert_exporter": "python",
   "pygments_lexer": "ipython3",
   "version": "3.11.2"
  }
 },
 "nbformat": 4,
 "nbformat_minor": 5
}
